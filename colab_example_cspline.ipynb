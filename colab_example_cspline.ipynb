{
  "nbformat": 4,
  "nbformat_minor": 0,
  "metadata": {
    "colab": {
      "name": "RJMCMC",
      "provenance": [],
      "collapsed_sections": []
    },
    "kernelspec": {
      "name": "python3",
      "display_name": "Python 3"
    },
    "language_info": {
      "name": "python"
    },
    "accelerator": "GPU",
    "gpuClass": "standard"
  },
  "cells": [
    {
      "cell_type": "markdown",
      "source": [
        "# RJMCMC Example notebook running in Google Colab.\n",
        "\n",
        "The main code is located in a github repository: https://github.com/qnano/rjmcmc3D\n",
        "\n",
        "The implementation also depends on https://gitlab.com/jcnossen/fastpsf.git to speed up PSF evaluation, which can be compiled within the google colab environment\n"
      ],
      "metadata": {
        "id": "bWMSbYWZUUSu"
      }
    },
    {
      "cell_type": "code",
      "execution_count": null,
      "metadata": {
        "id": "MVnRkKIz1lew"
      },
      "outputs": [],
      "source": [
        "!git clone https://github.com/qnano/rjmcmc3D"
      ]
    },
    {
      "cell_type": "code",
      "source": [
        "!git clone https://gitlab.com/jcnossen/fastpsf.git -b rjmcmc fastpsf-mcl"
      ],
      "metadata": {
        "id": "kDAlXrttN2VW"
      },
      "execution_count": null,
      "outputs": []
    },
    {
      "cell_type": "markdown",
      "source": [
        "# Build C++/CUDA code and install python dependencies:"
      ],
      "metadata": {
        "id": "uM0j-74yre9f"
      }
    },
    {
      "cell_type": "code",
      "source": [
        "%cd /content/fastpsf-mcl\n",
        "!cmake .\n",
        "!make clean & make\n",
        "%cd /content/fastpsf-mcl/python/\n",
        "!python setup.py develop"
      ],
      "metadata": {
        "id": "0XaPNrfp1zde"
      },
      "execution_count": null,
      "outputs": []
    },
    {
      "cell_type": "markdown",
      "source": [
        "# Run main RJMCMC algorithm"
      ],
      "metadata": {
        "id": "CLCuhILPrnuO"
      }
    },
    {
      "cell_type": "code",
      "source": [
        "#@title\n",
        "import numpy as np\n",
        "import numpy.ctypeslib as ctl\n",
        "import matplotlib.colors as colors\n",
        "import matplotlib.pyplot as plt\n",
        "\n",
        "%cd /content/fastpsf-mcl/python/\n",
        "from fastpsf import Context\n",
        "from fastpsf import CSplineCalibration, CSplineMethods\n",
        "from fastpsf.mcmc import PDFInfo, MCLocalizer\n",
        "\n",
        "%cd /content/rjmcmc3D/\n",
        "from priors_release import Prior_calculator, gauss1d, prior_k, prior_I, prior_bg, prior_xyz\n",
        "from moves_release import RJMCMC_Object\n",
        "\n",
        "np.seterr(under='ignore', over='ignore')\n",
        "\n",
        "#%% create PDF\n",
        "\n",
        "k_max = 6     # maxEmitters\n",
        "k_PDF = np.ones(k_max)\n",
        "k_PDF /= k_PDF.sum()\n",
        "\n",
        "bg_PDF = np.zeros(1000)\n",
        "bg_PDF[0:30] = 1\n",
        "bg_PDF /= bg_PDF.sum()\n",
        "\n",
        "\n",
        "# synthetic PDFs for I, gaussians\n",
        "s_I = 300\n",
        "b_I = int(3*s_I) \n",
        "I_PDF = gauss1d(np.arange(30000), 2000, s_I)\n",
        "I_PDF[2000 + b_I::] = 0\n",
        "frac = 40\n",
        "I_PDF[b_I:np.where(I_PDF > max(I_PDF)/frac)[0][0]] = max(I_PDF)/frac\n",
        "I_PDF[0:b_I] = np.linspace(0,max(I_PDF)/frac, b_I)\n",
        "I_PDF /= I_PDF.sum()\n",
        "\n",
        "np.random.seed(0)       #debug\n",
        "\n",
        "with Context() as ctx:\n",
        "    # generate astigmatic psf model\n",
        "    sigma_PSF = 1.2\n",
        "    fixed_I = 2000\n",
        "    bg = 20\n",
        "    \n",
        "    roisize=20\n",
        "    cspline_api = CSplineMethods(ctx)\n",
        "    calib = CSplineCalibration.from_file('/content/rjmcmc3D/psf_data/smlm_challenge_astigmatic.mat')\n",
        "    psf = cspline_api.CreatePSF_XYZIBg(roisize, calib, cuda=True) \n",
        "    zrange = calib.zrange\n",
        "   \n",
        "    # parameters for the data\n",
        "    n_eval = 100\n",
        "    numFrames = 1\n",
        "    numEmitters = 2\n",
        "    \n",
        "    j = 5\n",
        "    separation = sigma_PSF*j/8 # dist to COM. dist between emitters is 2*separation\n",
        "\n",
        "    bg = 20 \n",
        "    border = 4\n",
        "    \n",
        "    # set up likelihood evaluator \n",
        "    intensityPDF = PDFInfo(I_PDF[100:3000],100, 3000)    \n",
        "    mcl = MCLocalizer(k_max, numFrames, psf, intensityPDF, ctx) \n",
        "\n",
        "    # generate parameters, images\n",
        "    pos = np.zeros([n_eval, k_max, 3], dtype = np.float32)\n",
        "    pos[:,0,0] = roisize / 2 - separation\n",
        "    pos[:,1,0] = roisize / 2 + separation\n",
        "    pos[:,0:2,1] = roisize / 2\n",
        "\n",
        "    I = np.zeros([n_eval, k_max, numFrames], dtype = np.float32)\n",
        "    I[:,0:2,:] = 2000\n",
        "\n",
        "    emitterState = np.zeros([n_eval, k_max], dtype = bool)\n",
        "    emitterState[:,0:2] = True\n",
        "    backgroundParams = np.ones(n_eval)*bg\n",
        "    \n",
        "    expval = mcl.ExpectedValue(pos, I*emitterState[:,:,None]) + bg\n",
        "    smp = np.random.poisson(expval)\n",
        "    smpIndices = np.arange(n_eval, dtype = int)\n",
        "\n",
        "    # assign samples to ll calculator\n",
        "    mcl.SetSamples(smp, smp*0)     \n",
        "\n",
        "    fig, ax = plt.subplots(dpi=300)\n",
        "    plt.imshow(smp[0,0,:,:])\n",
        "    plt.scatter(pos[0, emitterState[0,:], 0], pos[0, emitterState[0,:], 1], marker='.', color='b', alpha = .5)\n",
        "    plt.legend(['GT'])\n",
        "    plt.title('Sample frame')\n",
        "\n",
        "    #%% set up RJMCMC localization\n",
        "\n",
        "    RJ = RJMCMC_Object(ctx, psf, smp, zrange, sigma_PSF, z_rescale = 1)\n",
        "    RJ.set_priors(k_max = k_max)\n",
        "    \n",
        "    # I_PDF, k_PDF\n",
        "    RJ.I_PDF = I_PDF\n",
        "    RJ.k_PDF = k_PDF\n",
        "    RJ.p_calc = Prior_calculator(RJ.n_eval, prior_I, RJ.I_PDF, prior_bg, RJ.bg_PDF,\n",
        "                                   prior_xyz, RJ.roisize, RJ.border, RJ.z_range[0], \n",
        "                                   RJ.z_range[1], prior_k, RJ.k_PDF, RJ.mu_k, \n",
        "                                   RJ.k_max)\n",
        "    RJ.intensityPDF = PDFInfo(RJ.I_PDF[100:3000],100, 3000) \n",
        "    \n",
        "    RJ.set_rjmcmc_moves(rjmcmc_len = 30000, rjmcmc_burn = 20000, sigma_z = 0.08, sigma_I = 15)\n",
        "    RJ.set_mcmc_moves(mcmc_len = 20000, sigma_z = 0.07,  sigma_I = 15)\n",
        "    \n",
        "    #%% run RJMCMC with default settings (5k rj, 3k mc, bamf move probabilities)\n",
        "    \n",
        "    RJ.run_rjmcmc()\n",
        "    \n",
        "    #%% run MCMC with default settings\n",
        "    \n",
        "    RJ.select_MAPN()\n",
        "    RJ.run_mcmc()\n"
      ],
      "metadata": {
        "id": "kSMG1VZm18W2",
        "cellView": "form"
      },
      "execution_count": null,
      "outputs": []
    },
    {
      "cell_type": "markdown",
      "source": [
        "# Plot results "
      ],
      "metadata": {
        "id": "P4IK4ue7r9rb"
      }
    },
    {
      "cell_type": "code",
      "source": [
        "#@title\n",
        "#plt.title(f'MCMC reconstruction using MAPN model, {n_eval} frames')\n",
        "b0, b1, b2 = np.where(RJ.mcmc.state_chain)\n",
        "x_mcmc = RJ.mcmc.pos_chain[b0, b1, 0, b2]\n",
        "y_mcmc = RJ.mcmc.pos_chain[b0, b1, 1, b2]\n",
        "z_mcmc = RJ.mcmc.pos_chain[b0, b1, 2, b2]\n",
        "#fig, ax = plt.subplots(dpi=200)\n",
        "#plt.hist2d(x_mcmc, y_mcmc, bins = np.linspace(0,roisize, 20*roisize + 1), cmap = 'hot')\n",
        "#plt.title(f'Histogram reconstruction, aggregate of {n_eval} frames')\n",
        "    \n",
        "fig, ax = plt.subplots(dpi=200)\n",
        "W = 6\n",
        "plt.hist2d(x_mcmc, y_mcmc, bins = np.linspace(roisize/2-W/2,roisize/2+W/2, 20*8 + 1), cmap = 'hot')\n",
        "plt.scatter(pos[0, emitterState[0,:], 0], pos[0, emitterState[0,:], 1], marker='.', color='b', alpha = .5)\n",
        "plt.legend(['GT'])\n",
        "plt.title('Zoomed in reconstruction with ground truth')\n",
        "\n",
        "\n",
        "################# XZ  ########################\n",
        "\n",
        "fig, ax = plt.subplots(dpi=200)\n",
        "zmid = (zrange[0]+zrange[1])/2\n",
        "zr = (zrange[1]-zrange[0])*0.2\n",
        "plt.hist2d(x_mcmc, z_mcmc, bins = [np.linspace(roisize/2-W/2,roisize/2+W/2, 4*roisize + 1), np.linspace(zmid-zr,zmid+zr, 4*roisize+1)], cmap = 'hot')\n",
        "plt.title('XZ plane reconstruction')\n",
        "################## ZY #######################\n",
        "\n",
        "fig, ax = plt.subplots(dpi=200)\n",
        "plt.hist2d(z_mcmc, y_mcmc, bins = [np.linspace(zrange[0], zrange[1], 4*roisize+1), np.linspace(0,roisize, 4*roisize + 1)], cmap = 'hot')\n",
        "plt.title('ZY plane reconstruction')\n",
        "\n",
        "\n",
        "minimum_distance_xy = .25 \n",
        "minimum_count = 100\n",
        "\n",
        "average_model_accuracy = (RJ.found_emitters == emitterState.sum(-1)).sum()/n_eval  \n",
        "\n",
        "fig, ax = plt.subplots(dpi=200)\n",
        "plt.plot(np.concatenate([RJ.rjmcmc.state_chain_burn, RJ.rjmcmc.state_chain],-1).sum(1).T)\n",
        "plt.xlabel('iteration')\n",
        "plt.ylabel('number of emitters')\n",
        "plt.title('model time series for each frame')\n",
        "\n",
        "\n",
        "indices = np.arange(n_eval)\n",
        "cm = 'viridis'\n",
        "cm = 'hot'\n",
        "\n",
        "\n",
        "fig, ax = plt.subplots(dpi=300)\n",
        "plt.plot(RJ.I_PDF[0:2000+b_I])\n",
        "plt.xlabel('I [photons]')\n",
        "plt.ylabel('P(I)')\n",
        "plt.grid()\n",
        "plt.title('Emitter intensity prior')\n"
      ],
      "metadata": {
        "cellView": "form",
        "id": "G_4KMRKDTAQw"
      },
      "execution_count": null,
      "outputs": []
    }
  ]
}